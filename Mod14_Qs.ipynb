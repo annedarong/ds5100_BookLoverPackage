{
 "cells": [
  {
   "cell_type": "markdown",
   "metadata": {},
   "source": [
    "# Metadata\n",
    "##### Course:  DS 5100\n",
    "##### Module:  14 Python Packages\n",
    "##### Topic:   HW Package Booklover\n",
    "##### Author:  R.C. Alvarado\n",
    "##### Date:    11 July 2022\n",
    "\n",
    "# Student Metadata\n",
    "##### Name: Anneda Rong\n",
    "##### NetID: aar2dk"
   ]
  },
  {
   "cell_type": "markdown",
   "metadata": {},
   "source": [
    "## Q1"
   ]
  },
  {
   "cell_type": "code",
   "execution_count": 1,
   "metadata": {},
   "outputs": [
    {
     "name": "stdout",
     "output_type": "stream",
     "text": [
      "total 40\n",
      "-rw-r--r--  1 annedarong  staff  1067 Jul 11 22:21 LICENSE\n",
      "drwxr-xr-x  5 annedarong  staff   160 Jul 11 22:31 \u001b[34mLovFuncs\u001b[m\u001b[m\n",
      "-rw-r--r--  1 annedarong  staff   899 Jul 11 22:36 Mod14_Qs.ipynb\n",
      "-rw-r--r--  1 annedarong  staff    25 Jul 11 22:21 README.md\n",
      "-rw-r--r--@ 1 annedarong  staff  2251 Jul  4 15:01 booklover_test.py\n",
      "-rw-r--r--  1 annedarong  staff   403 Jul 11 22:33 setup.py\n",
      "\n",
      "./LovFuncs:\n",
      "total 16\n",
      "-rw-r--r--  1 annedarong  staff    93 Jul 11 22:30 __init__.py\n",
      "-rw-r--r--@ 1 annedarong  staff  1584 Jul  4 22:29 booklover.py\n"
     ]
    }
   ],
   "source": [
    "# Q1\n",
    "\n",
    "!ls -lR"
   ]
  },
  {
   "cell_type": "markdown",
   "metadata": {},
   "source": [
    "## Q2"
   ]
  },
  {
   "cell_type": "markdown",
   "metadata": {
    "vscode": {
     "languageId": "plaintext"
    }
   },
   "source": [
    "URL https://github.com/annedarong/ds5100_BookLoverPackage"
   ]
  },
  {
   "cell_type": "markdown",
   "metadata": {},
   "source": [
    "## Q3"
   ]
  },
  {
   "cell_type": "code",
   "execution_count": 3,
   "metadata": {},
   "outputs": [
    {
     "name": "stdout",
     "output_type": "stream",
     "text": [
      "Obtaining file:///Users/annedarong/Desktop/Mod14_BookLover/ds5100_BookLoverPackage\n",
      "Installing collected packages: BookLovers\n",
      "  Running setup.py develop for BookLovers\n",
      "Successfully installed BookLovers\n"
     ]
    }
   ],
   "source": [
    "!pip install -e ."
   ]
  },
  {
   "cell_type": "code",
   "execution_count": 5,
   "metadata": {},
   "outputs": [
    {
     "name": "stdout",
     "output_type": "stream",
     "text": [
      "1\n"
     ]
    }
   ],
   "source": [
    "!python ../test_booklovers.py"
   ]
  }
 ],
 "metadata": {
  "kernelspec": {
   "display_name": "Python 3.9.6 64-bit",
   "language": "python",
   "name": "python3"
  },
  "language_info": {
   "codemirror_mode": {
    "name": "ipython",
    "version": 3
   },
   "file_extension": ".py",
   "mimetype": "text/x-python",
   "name": "python",
   "nbconvert_exporter": "python",
   "pygments_lexer": "ipython3",
   "version": "3.9.6"
  },
  "orig_nbformat": 4,
  "vscode": {
   "interpreter": {
    "hash": "aee8b7b246df8f9039afb4144a1f6fd8d2ca17a180786b69acc140d282b71a49"
   }
  }
 },
 "nbformat": 4,
 "nbformat_minor": 2
}
